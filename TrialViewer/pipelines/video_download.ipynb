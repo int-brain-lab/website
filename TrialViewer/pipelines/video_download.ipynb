{
 "cells": [
  {
   "cell_type": "code",
   "execution_count": 1,
   "id": "44a5ab1f-6c7a-4c60-af07-aa06afd34321",
   "metadata": {},
   "outputs": [],
   "source": [
    "'''In this notebook we will download all of the IBL video files and then compress them to 64x? pixels and 30fps\n",
    "  then we will save them to a local folder from which we can run an http server'''\n",
    "import numpy as np\n",
    "import requests\n",
    "import subprocess"
   ]
  },
  {
   "cell_type": "code",
   "execution_count": 2,
   "id": "556d4eb5-b740-40f8-81a7-3805ff9f4aef",
   "metadata": {},
   "outputs": [
    {
     "name": "stdout",
     "output_type": "stream",
     "text": [
      "Downloading: C:\\Users\\Dan\\Downloads\\ONE\\alyx.internationalbrainlab.org\\tmpj_iznyhi\\cache.zip Bytes: 77519661\n"
     ]
    },
    {
     "name": "stderr",
     "output_type": "stream",
     "text": [
      "100%|████████████████████████████████████████████████████| 73.92850971221924/73.92850971221924 [00:17<00:00,  4.31it/s]\n"
     ]
    }
   ],
   "source": [
    "from one.api import ONE\n",
    "one = ONE(base_url='https://alyx.internationalbrainlab.org')"
   ]
  },
  {
   "cell_type": "code",
   "execution_count": 3,
   "id": "657d6012-5269-479f-82f0-fa5c371d8f6f",
   "metadata": {},
   "outputs": [
    {
     "name": "stdout",
     "output_type": "stream",
     "text": [
      "0802ced5-33a3-405e-8336-b65ebc5cb07c\n"
     ]
    }
   ],
   "source": [
    "eid = '0802ced5-33a3-405e-8336-b65ebc5cb07c'\n",
    "print(eid)"
   ]
  },
  {
   "cell_type": "code",
   "execution_count": 4,
   "id": "b2a4add0-d313-4569-85d0-efc4e333d952",
   "metadata": {},
   "outputs": [],
   "source": [
    "with open('username.txt') as f:\n",
    "    username = f.readlines()\n",
    "    username = username[0]\n",
    "with open('password.txt') as f:\n",
    "    password = f.readlines()\n",
    "    password = password[0]\n"
   ]
  },
  {
   "cell_type": "code",
   "execution_count": 7,
   "id": "9c7f864b-4dd2-4095-b901-f79e056cf495",
   "metadata": {},
   "outputs": [
    {
     "name": "stdout",
     "output_type": "stream",
     "text": [
      "https://ibl.flatironinstitute.org/mainenlab/Subjects/ZFM-02373/2021-06-23/001/raw_video_data/_iblrig_leftCamera.raw.757e3f76-d9c9-4cfa-b0d8-6a78e6e54140.mp4\n",
      "231420\n",
      "[60.12625311 60.12625311 60.0060006  ... 60.12625311 60.0060006\n",
      " 60.12625311]\n",
      "https://ibl.flatironinstitute.org/mainenlab/Subjects/ZFM-02373/2021-06-23/001/raw_video_data/_iblrig_rightCamera.raw.12fe2ea5-0796-4004-a730-10d52c1ec150.mp4\n",
      "579247\n",
      "[ 37.64491882 150.0150015  150.76884573 ... 150.01500151 150.76884572\n",
      " 150.01500151]\n",
      "https://ibl.flatironinstitute.org/mainenlab/Subjects/ZFM-02373/2021-06-23/001/raw_video_data/_iblrig_bodyCamera.raw.d56a60b1-e183-4708-9483-1bb7040bf7b8.mp4\n",
      "116108\n",
      "[30.15376915 30.12349428 30.15376915 ... 30.15376915 30.15376915\n",
      " 30.15376915]\n"
     ]
    }
   ],
   "source": [
    "dsets = one.type2datasets(eid, '_iblrig_Camera.raw', details=True)\n",
    "videos = ['left','right','body']\n",
    "\n",
    "# opener.addheaders[]\n",
    "\n",
    "for video in videos:\n",
    "  dset = next(d for idx, d in dsets.iterrows() if video in d['rel_path'])\n",
    "  url = one.record2url(dset)\n",
    "  print(url)\n",
    "  ftext = eid + '_' + video\n",
    "  videoFile = 'videos/' +ftext + \".mp4\"\n",
    "  open(videoFile, 'wb').write(requests.get(url, auth=(username, password)).content)\n",
    "  # also get the timestamps\n",
    "  # To get timestamps for video data so you can find out what times each frame is at\n",
    "  dsets_time = one.type2datasets(eid, 'camera.times')\n",
    "  dset = next(d for d in dsets_time if video in d)\n",
    "  # load data\n",
    "  times = one.load_dataset(eid, dset)\n",
    "  print(len(times))\n",
    "  print(1/np.diff(times))\n",
    "  with open('C:\\\\proj\\\\VBL\\\\iblreplay-preproc\\\\videos\\\\'+ftext+'_times.txt','w') as f:\n",
    "    f.write(str(times[0]))\n",
    "  np.save('videos/'+ftext+\"_times.npy\",times)\n",
    "  call = subprocess.call(['ffmpeg',\n",
    "                 '-i', 'C:\\\\proj\\\\VBL\\\\iblreplay-preproc\\\\videos\\\\'+ftext+'.mp4',\n",
    "                 '-vf', 'fps=30,scale=64:52', \n",
    "                 'C:\\\\proj\\\\VBL\\\\iblreplay-preproc\\\\videos\\\\'+ftext+'_scaled'+'.mp4'])"
   ]
  },
  {
   "cell_type": "code",
   "execution_count": 8,
   "id": "cd92fbb9-8f4d-4161-b6a4-cf1f3e3c2870",
   "metadata": {},
   "outputs": [
    {
     "data": {
      "text/plain": [
       "array([  42.96763614,   43.00079949,   43.03399617, ..., 3894.08735232,\n",
       "       3894.12051567, 3894.15367902])"
      ]
     },
     "execution_count": 8,
     "metadata": {},
     "output_type": "execute_result"
    }
   ],
   "source": [
    "times"
   ]
  },
  {
   "cell_type": "code",
   "execution_count": null,
   "id": "c20eea2d-61f8-492e-a77d-9221f9671906",
   "metadata": {},
   "outputs": [],
   "source": []
  }
 ],
 "metadata": {
  "kernelspec": {
   "display_name": "Python 3 (ipykernel)",
   "language": "python",
   "name": "python3"
  },
  "language_info": {
   "codemirror_mode": {
    "name": "ipython",
    "version": 3
   },
   "file_extension": ".py",
   "mimetype": "text/x-python",
   "name": "python",
   "nbconvert_exporter": "python",
   "pygments_lexer": "ipython3",
   "version": "3.9.0"
  }
 },
 "nbformat": 4,
 "nbformat_minor": 5
}
